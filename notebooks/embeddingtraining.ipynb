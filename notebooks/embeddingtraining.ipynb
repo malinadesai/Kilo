{
 "cells": [
  {
   "cell_type": "code",
   "execution_count": 1,
   "id": "fbc2e60d-9697-4c4e-8f7f-b20d54f13ddc",
   "metadata": {},
   "outputs": [],
   "source": [
    "# general modules\n",
    "import numpy as np\n",
    "import pandas as pd\n",
    "import matplotlib.pyplot as plt\n",
    "import os, sys, time, glob\n",
    "import json\n",
    "import warnings"
   ]
  },
  {
   "cell_type": "code",
   "execution_count": 2,
   "id": "dbfb03a1-584c-423f-836b-2cc062538d8d",
   "metadata": {},
   "outputs": [],
   "source": [
    "# pytorch\n",
    "import torch\n",
    "import torch.nn as nn\n",
    "import torch.optim as optim\n",
    "from torch.utils.data import Dataset, DataLoader, TensorDataset, random_split\n",
    "import torch.nn.functional as F\n",
    "from torch.utils.tensorboard import SummaryWriter"
   ]
  },
  {
   "cell_type": "code",
   "execution_count": 3,
   "id": "44c4da54-98b0-47d1-9948-a6419fbabd82",
   "metadata": {},
   "outputs": [],
   "source": [
    "# extras\n",
    "from IPython.display import clear_output\n",
    "from time import time\n",
    "from time import sleep"
   ]
  },
  {
   "cell_type": "code",
   "execution_count": 4,
   "id": "2589cb1e-8aa2-48e9-bb27-5cc52a3ad3ac",
   "metadata": {},
   "outputs": [],
   "source": [
    "# importing functions\n",
    "from embedding import SimilarityEmbedding, VICRegLoss, train_one_epoch_se, val_one_epoch_se\n",
    "from data_processing import Paper_data"
   ]
  },
  {
   "cell_type": "code",
   "execution_count": 5,
   "id": "9dc80365-5cab-45e1-8f32-583af94509a4",
   "metadata": {},
   "outputs": [
    {
     "name": "stdout",
     "output_type": "stream",
     "text": [
      "Using cuda\n"
     ]
    }
   ],
   "source": [
    "# checking gpu status, ensures tensors are stored on the same device\n",
    "\n",
    "device = torch.device(\"cuda\" if torch.cuda.is_available() else \"cpu\")\n",
    "print(f\"Using {device}\")"
   ]
  },
  {
   "cell_type": "markdown",
   "id": "8ebf22ec-7f86-4a26-9dd6-b7ca46f431e5",
   "metadata": {},
   "source": [
    "# Data Loading"
   ]
  },
  {
   "cell_type": "code",
   "execution_count": 6,
   "id": "7294379d-3358-4a11-8e02-5341125f4c89",
   "metadata": {},
   "outputs": [],
   "source": [
    "# load in tensors\n",
    "\n",
    "data_shifted_paper = torch.load('/nobackup/users/mmdesai/updated_tensors/data_shifted_paper4.pt')\n",
    "data_unshifted_paper = torch.load('/nobackup/users/mmdesai/updated_tensors/data_unshifted_paper4.pt')\n",
    "param_shifted_paper = torch.load('/nobackup/users/mmdesai/updated_tensors/param_shifted_paper4.pt')\n",
    "param_unshifted_paper = torch.load('/nobackup/users/mmdesai/updated_tensors/param_unshifted_paper4.pt')"
   ]
  },
  {
   "cell_type": "code",
   "execution_count": 7,
   "id": "5600dd2b-b27a-44ef-9c3a-7a9c6f046448",
   "metadata": {},
   "outputs": [],
   "source": [
    "# define the dataset\n",
    "\n",
    "num_batches_paper_sample = len(data_shifted_paper)\n",
    "dataset_paper = Paper_data(data_shifted_paper, data_unshifted_paper, param_shifted_paper, param_unshifted_paper, num_batches_paper_sample)"
   ]
  },
  {
   "cell_type": "code",
   "execution_count": 8,
   "id": "27ae451c-9096-431f-a97d-8f8bf23181e1",
   "metadata": {},
   "outputs": [],
   "source": [
    "# split dataset into training, testing, and validation\n",
    "\n",
    "num_batches_paper_sample = len(data_shifted_paper)\n",
    "\n",
    "train_set_size_paper = int(0.8 * num_batches_paper_sample)    \n",
    "val_set_size_paper = int(0.1 * num_batches_paper_sample)     \n",
    "test_set_size_paper = num_batches_paper_sample - train_set_size_paper - val_set_size_paper\n",
    "\n",
    "train_data_paper, val_data_paper, test_data_paper = torch.utils.data.random_split(\n",
    "    dataset_paper, [train_set_size_paper, val_set_size_paper, test_set_size_paper])"
   ]
  },
  {
   "cell_type": "code",
   "execution_count": 9,
   "id": "3851edda-4c58-4ea6-9c83-152f0f6f26c4",
   "metadata": {},
   "outputs": [],
   "source": [
    "# load and shuffle the data\n",
    "\n",
    "train_data_loader_paper = DataLoader(train_data_paper, batch_size=25, shuffle=True)\n",
    "val_data_loader_paper = DataLoader(val_data_paper, batch_size=25, shuffle=True)\n",
    "test_data_loader_paper = DataLoader(test_data_paper, batch_size=1, shuffle=False)"
   ]
  },
  {
   "cell_type": "markdown",
   "id": "20507d70-7ec2-4890-b9e3-87fc0b1625a3",
   "metadata": {},
   "source": [
    "# Training"
   ]
  },
  {
   "cell_type": "code",
   "execution_count": 10,
   "id": "57b901a5-0cfb-41bd-b23d-d8bf38a9e237",
   "metadata": {},
   "outputs": [],
   "source": [
    "similarity_embedding = SimilarityEmbedding(num_dim=7, num_hidden_layers_f=1, num_hidden_layers_h=1, num_blocks=4, kernel_size=5, num_dim_final=2).to(device)\n",
    "num_dim = 7\n",
    "\n",
    "# optimizes\n",
    "optimizer = optim.Adam(similarity_embedding.parameters(), lr=0.000004)\n",
    "\n",
    "# define the loss\n",
    "vicreg_loss = VICRegLoss()\n",
    "\n",
    "# sets learning rate steps\n",
    "scheduler_1 = optim.lr_scheduler.ConstantLR(optimizer, total_iters=5) #constant lr\n",
    "scheduler_2 = optim.lr_scheduler.OneCycleLR(optimizer, total_steps=20, max_lr=2e-3) #one cycle - increase and then decrease\n",
    "scheduler_3 = optim.lr_scheduler.ExponentialLR(optimizer, gamma=0.95)\n",
    "scheduler = optim.lr_scheduler.SequentialLR(optimizer, schedulers=[scheduler_1, scheduler_2, scheduler_3], milestones=[5, 15])"
   ]
  },
  {
   "cell_type": "code",
   "execution_count": 11,
   "id": "84aa32f3-2c70-4567-915e-7eef5997947e",
   "metadata": {},
   "outputs": [
    {
     "name": "stdout",
     "output_type": "stream",
     "text": [
      "The total number of parameters for the embedding is: 395051\n"
     ]
    }
   ],
   "source": [
    "# print neural network parameters that require gradients and sum parameters\n",
    "\n",
    "sum_param=0\n",
    "for name, param in similarity_embedding.named_parameters():\n",
    "    if param.requires_grad:\n",
    "        # print(name)\n",
    "        # print(param.numel())\n",
    "        sum_param+=param.numel()\n",
    "print('The total number of parameters for the embedding is: ' + str(sum_param))"
   ]
  },
  {
   "cell_type": "code",
   "execution_count": 12,
   "id": "86ae971d-9fe9-409c-9e7b-afb36a5c7a97",
   "metadata": {},
   "outputs": [],
   "source": [
    "# write to tensorboard\n",
    "\n",
    "writer = SummaryWriter()\n",
    "epoch_number = 0"
   ]
  },
  {
   "cell_type": "code",
   "execution_count": 13,
   "id": "e8044570-cdd0-49e9-a2d9-0ff1406b5a7d",
   "metadata": {
    "scrolled": true
   },
   "outputs": [
    {
     "name": "stdout",
     "output_type": "stream",
     "text": [
      "EPOCH 1:\n",
      "Train/Val Sim Loss after epoch: 0.8810/0.8689\n",
      "EPOCH 2:\n",
      "Train/Val Sim Loss after epoch: 0.6948/0.7536\n",
      "EPOCH 3:\n",
      "Train/Val Sim Loss after epoch: 0.4030/0.4572\n",
      "EPOCH 4:\n",
      "Train/Val Sim Loss after epoch: 0.1905/0.1940\n",
      "EPOCH 5:\n",
      "Train/Val Sim Loss after epoch: 0.1212/0.0623\n",
      "EPOCH 6:\n"
     ]
    },
    {
     "name": "stderr",
     "output_type": "stream",
     "text": [
      "/home/mmdesai/.conda/envs/my_torch/lib/python3.10/site-packages/torch/optim/lr_scheduler.py:152: UserWarning: The epoch parameter in `scheduler.step()` was not necessary and is being deprecated where possible. Please use `scheduler.step()` to step the scheduler. During the deprecation, if epoch is different from None, the closed form is used instead of the new chainable form, where available. Please open an issue if you are unable to replicate your use case: https://github.com/pytorch/pytorch/issues/new/choose.\n",
      "  warnings.warn(EPOCH_DEPRECATION_WARNING, UserWarning)\n"
     ]
    },
    {
     "name": "stdout",
     "output_type": "stream",
     "text": [
      "Train/Val Sim Loss after epoch: 0.0743/0.0285\n",
      "EPOCH 7:\n",
      "Train/Val Sim Loss after epoch: 0.0493/0.0319\n",
      "EPOCH 8:\n",
      "Train/Val Sim Loss after epoch: 0.0855/0.0792\n",
      "EPOCH 9:\n",
      "Train/Val Sim Loss after epoch: 0.1137/0.2312\n",
      "EPOCH 10:\n",
      "Train/Val Sim Loss after epoch: 0.0424/0.0315\n",
      "EPOCH 11:\n",
      "Train/Val Sim Loss after epoch: 0.0381/0.0436\n",
      "EPOCH 12:\n",
      "Train/Val Sim Loss after epoch: 0.0285/0.0353\n",
      "EPOCH 13:\n",
      "Train/Val Sim Loss after epoch: 0.0185/0.0068\n",
      "EPOCH 14:\n",
      "Train/Val Sim Loss after epoch: 0.0176/0.0178\n",
      "EPOCH 15:\n",
      "Train/Val Sim Loss after epoch: 0.0214/0.0178\n",
      "EPOCH 16:\n",
      "Train/Val Sim Loss after epoch: 0.0353/0.0186\n",
      "EPOCH 17:\n",
      "Train/Val Sim Loss after epoch: 0.0189/0.0102\n",
      "EPOCH 18:\n",
      "Train/Val Sim Loss after epoch: 0.0208/0.0318\n",
      "EPOCH 19:\n",
      "Train/Val Sim Loss after epoch: 0.0170/0.0175\n",
      "EPOCH 20:\n",
      "Train/Val Sim Loss after epoch: 0.0146/0.0142\n",
      "EPOCH 21:\n",
      "Train/Val Sim Loss after epoch: 0.0148/0.0153\n",
      "EPOCH 22:\n",
      "Train/Val Sim Loss after epoch: 0.0158/0.0091\n",
      "EPOCH 23:\n",
      "Train/Val Sim Loss after epoch: 0.0270/0.0148\n",
      "EPOCH 24:\n",
      "Train/Val Sim Loss after epoch: 0.0171/0.0154\n",
      "EPOCH 25:\n",
      "Train/Val Sim Loss after epoch: 0.0153/0.0201\n",
      "EPOCH 26:\n",
      "Train/Val Sim Loss after epoch: 0.0162/0.0139\n",
      "EPOCH 27:\n",
      "Train/Val Sim Loss after epoch: 0.0160/0.0129\n",
      "EPOCH 28:\n",
      "Train/Val Sim Loss after epoch: 0.0202/0.0128\n",
      "EPOCH 29:\n",
      "Train/Val Sim Loss after epoch: 0.0169/0.0117\n",
      "EPOCH 30:\n",
      "Train/Val Sim Loss after epoch: 0.0153/0.0158\n",
      "EPOCH 31:\n",
      "Train/Val Sim Loss after epoch: 0.0139/0.0304\n",
      "EPOCH 32:\n",
      "Train/Val Sim Loss after epoch: 0.0140/0.0130\n",
      "EPOCH 33:\n",
      "Train/Val Sim Loss after epoch: 0.0144/0.0177\n",
      "EPOCH 34:\n",
      "Train/Val Sim Loss after epoch: 0.0344/0.0195\n",
      "EPOCH 35:\n",
      "Train/Val Sim Loss after epoch: 0.0194/0.0108\n",
      "EPOCH 36:\n",
      "Train/Val Sim Loss after epoch: 0.0207/0.0184\n",
      "EPOCH 37:\n",
      "Train/Val Sim Loss after epoch: 0.0143/0.3939\n",
      "EPOCH 38:\n",
      "Train/Val Sim Loss after epoch: 0.0139/0.0666\n",
      "EPOCH 39:\n",
      "Train/Val Sim Loss after epoch: 0.0264/0.0185\n",
      "EPOCH 40:\n",
      "Train/Val Sim Loss after epoch: 0.0147/0.0154\n",
      "EPOCH 41:\n",
      "Train/Val Sim Loss after epoch: 0.0231/0.0132\n",
      "EPOCH 42:\n",
      "Train/Val Sim Loss after epoch: 0.0146/0.1594\n",
      "EPOCH 43:\n",
      "Train/Val Sim Loss after epoch: 0.0166/0.0080\n",
      "EPOCH 44:\n",
      "Train/Val Sim Loss after epoch: 0.0187/0.0175\n",
      "EPOCH 45:\n",
      "Train/Val Sim Loss after epoch: 0.0150/0.0218\n",
      "EPOCH 46:\n",
      "Train/Val Sim Loss after epoch: 0.0133/0.0178\n",
      "EPOCH 47:\n",
      "Train/Val Sim Loss after epoch: 0.0163/0.0266\n",
      "EPOCH 48:\n",
      "Train/Val Sim Loss after epoch: 0.0156/0.0160\n",
      "EPOCH 49:\n",
      "Train/Val Sim Loss after epoch: 0.0144/0.1529\n",
      "EPOCH 50:\n",
      "Train/Val Sim Loss after epoch: 0.0159/0.0185\n",
      "CPU times: user 5min 11s, sys: 24.9 s, total: 5min 36s\n",
      "Wall time: 5min 35s\n"
     ]
    }
   ],
   "source": [
    "%%time\n",
    "# training the neural network for many epochs\n",
    "\n",
    "epoch_number = 0\n",
    "EPOCHS = 50\n",
    "\n",
    "sim_val_loss = []\n",
    "sim_train_loss = []\n",
    "\n",
    "for epoch in range(EPOCHS):\n",
    "    print('EPOCH {}:'.format(epoch_number + 1))\n",
    "    wt_repr, wt_cov, wt_std = (1, 1, 1)\n",
    "\n",
    "    # Gradient tracking\n",
    "    similarity_embedding.train(True)\n",
    "    avg_train_loss = train_one_epoch_se(epoch_number, writer, train_data_loader_paper, similarity_embedding,\n",
    "                                        optimizer, False, vicreg_loss,  \n",
    "                                        wt_repr=wt_repr, wt_cov=wt_cov, wt_std=wt_std)\n",
    "    sim_train_loss.append(avg_train_loss)\n",
    "    \n",
    "    # no gradient tracking, for validation\n",
    "    similarity_embedding.train(False)\n",
    "    similarity_embedding.eval()\n",
    "    avg_val_loss = val_one_epoch_se(epoch_number, writer, val_data_loader_paper, \n",
    "                                    similarity_embedding, vicreg_loss,\n",
    "                                    wt_repr=wt_repr, wt_cov=wt_cov, wt_std=wt_std)\n",
    "    sim_val_loss.append(avg_val_loss)\n",
    "    \n",
    "    print(f\"Train/Val Sim Loss after epoch: {avg_train_loss:.4f}/{avg_val_loss:.4f}\")\n",
    "\n",
    "    epoch_number += 1\n",
    "    scheduler.step()\n"
   ]
  },
  {
   "cell_type": "code",
   "execution_count": 14,
   "id": "c0ccfbdf-2e7b-4430-b13d-8c9bb2374976",
   "metadata": {},
   "outputs": [
    {
     "data": {
      "text/plain": [
       "Text(0, 0.5, 'Loss')"
      ]
     },
     "execution_count": 14,
     "metadata": {},
     "output_type": "execute_result"
    },
    {
     "data": {
      "image/png": "[encoded data removed]",
      "text/plain": [
       "<Figure size 640x480 with 1 Axes>"
      ]
     },
     "metadata": {},
     "output_type": "display_data"
    }
   ],
   "source": [
    "# plot the train/val loss \n",
    "\n",
    "epoch_list = range(0,len(sim_train_loss))\n",
    "plt.plot(epoch_list, sim_train_loss, label = 'Similarity Embedding (Train)', color = 'royalblue', alpha = 0.8, marker = 's')\n",
    "plt.plot(epoch_list, sim_val_loss, label = 'Similarity Embedding (Val)', color = 'lightsteelblue', alpha=0.8, linestyle=\"dashed\")\n",
    "plt.legend()\n",
    "plt.xlabel('Number of Epochs')\n",
    "plt.ylabel('Loss')"
   ]
  }
 ],
 "metadata": {
  "kernelspec": {
   "display_name": "Python 3 (ipykernel)",
   "language": "python",
   "name": "python3"
  },
  "language_info": {
   "codemirror_mode": {
    "name": "ipython",
    "version": 3
   },
   "file_extension": ".py",
   "mimetype": "text/x-python",
   "name": "python",
   "nbconvert_exporter": "python",
   "pygments_lexer": "ipython3",
   "version": "3.10.13"
  }
 },
 "nbformat": 4,
 "nbformat_minor": 5
}
