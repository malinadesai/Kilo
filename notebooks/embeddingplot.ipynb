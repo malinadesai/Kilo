{
 "cells": [
  {
   "cell_type": "code",
   "execution_count": 1,
   "id": "ba3c269f-f9f1-4331-b282-bd18c9ab86a2",
   "metadata": {},
   "outputs": [],
   "source": [
    "# general modules\n",
    "import numpy as np\n",
    "import matplotlib.pyplot as plt\n",
    "from matplotlib.lines import Line2D\n",
    "import matplotlib.lines as mlines\n",
    "import os, sys, time, glob\n",
    "import json\n",
    "import warnings"
   ]
  },
  {
   "cell_type": "code",
   "execution_count": 2,
   "id": "c6603ae6-929f-4998-ba92-bd9e5c11431c",
   "metadata": {},
   "outputs": [],
   "source": [
    "# pytorch\n",
    "import torch\n",
    "from torch.utils.data import Dataset, DataLoader, TensorDataset, random_split"
   ]
  },
  {
   "cell_type": "code",
   "execution_count": 3,
   "id": "3838e377-2bf3-4302-a4a7-74100aa8f917",
   "metadata": {},
   "outputs": [],
   "source": [
    "# extras\n",
    "from IPython.display import clear_output\n",
    "from time import time\n",
    "from time import sleep\n",
    "import corner\n",
    "from os.path import exists"
   ]
  },
  {
   "cell_type": "code",
   "execution_count": 4,
   "id": "974f8fe4-2a97-422e-9363-224e4ec9c4ae",
   "metadata": {},
   "outputs": [],
   "source": [
    "# importing functions\n",
    "from embedding import SimilarityEmbedding\n",
    "from data_processing import Paper_data"
   ]
  },
  {
   "cell_type": "code",
   "execution_count": 5,
   "id": "231d5010-6cc6-41c6-9636-129f8992d177",
   "metadata": {},
   "outputs": [
    {
     "name": "stdout",
     "output_type": "stream",
     "text": [
      "Using cuda\n"
     ]
    }
   ],
   "source": [
    "# checking gpu status, ensures tensors are stored on the same device\n",
    "\n",
    "device = torch.device(\"cuda\" if torch.cuda.is_available() else \"cpu\")\n",
    "print(f\"Using {device}\")"
   ]
  },
  {
   "cell_type": "markdown",
   "id": "33d738b2-d3c1-496f-86df-d37b2e51f445",
   "metadata": {},
   "source": [
    "# Load in Data"
   ]
  },
  {
   "cell_type": "code",
   "execution_count": 6,
   "id": "be4f1dd0-0d6a-40e7-b671-4fd3b674f2b3",
   "metadata": {},
   "outputs": [],
   "source": [
    "# load in tensors\n",
    "\n",
    "data_shifted_paper1 = torch.load('/nobackup/users/mmdesai/updated_tensors/data_shifted_paper4.pt')\n",
    "data_unshifted_paper1 = torch.load('/nobackup/users/mmdesai/updated_tensors/data_unshifted_paper4.pt')\n",
    "param_shifted_paper1 = torch.load('/nobackup/users/mmdesai/updated_tensors/param_shifted_paper4.pt')\n",
    "param_unshifted_paper1 = torch.load('/nobackup/users/mmdesai/updated_tensors/param_unshifted_paper4.pt')\n",
    "\n",
    "data_shifted_paper2 = torch.load('/nobackup/users/mmdesai/updated_tensors/data_shifted_paper5.pt')\n",
    "data_unshifted_paper2 = torch.load('/nobackup/users/mmdesai/updated_tensors/data_unshifted_paper5.pt')\n",
    "param_shifted_paper2 = torch.load('/nobackup/users/mmdesai/updated_tensors/param_shifted_paper5.pt')\n",
    "param_unshifted_paper2 = torch.load('/nobackup/users/mmdesai/updated_tensors/param_unshifted_paper5.pt')\n",
    "\n",
    "data_shifted_paper3 = torch.load('/nobackup/users/mmdesai/updated_tensors/data_shifted_paper6.pt')\n",
    "data_unshifted_paper3 = torch.load('/nobackup/users/mmdesai/updated_tensors/data_unshifted_paper6.pt')\n",
    "param_shifted_paper3 = torch.load('/nobackup/users/mmdesai/updated_tensors/param_shifted_paper6.pt')\n",
    "param_unshifted_paper3 = torch.load('/nobackup/users/mmdesai/updated_tensors/param_unshifted_paper6.pt')"
   ]
  },
  {
   "cell_type": "code",
   "execution_count": 7,
   "id": "81d556a0-cc7c-4ed9-8ffe-75ec70e7d4ec",
   "metadata": {},
   "outputs": [],
   "source": [
    "# combine the lists of tensors\n",
    "\n",
    "data_shifted_paper = torch.stack(data_shifted_paper1 + data_shifted_paper2 + data_shifted_paper3)\n",
    "data_unshifted_paper = torch.stack(data_unshifted_paper1 + data_unshifted_paper2 + data_unshifted_paper3)\n",
    "param_shifted_paper = torch.stack(param_shifted_paper1 + param_shifted_paper2 + param_shifted_paper3)\n",
    "param_unshifted_paper = torch.stack(param_unshifted_paper1 + param_unshifted_paper2 + param_unshifted_paper3)"
   ]
  },
  {
   "cell_type": "code",
   "execution_count": 8,
   "id": "9e2c177f-e7a2-46d0-9565-c94c18bc5a72",
   "metadata": {},
   "outputs": [],
   "source": [
    "# define the dataset\n",
    "\n",
    "num_batches_paper_sample = len(data_shifted_paper)\n",
    "dataset_paper = Paper_data(data_shifted_paper, data_unshifted_paper, param_shifted_paper, param_unshifted_paper, num_batches_paper_sample)"
   ]
  },
  {
   "cell_type": "code",
   "execution_count": 9,
   "id": "19b8a661-0cd0-475d-b80c-4dc30b66736a",
   "metadata": {},
   "outputs": [],
   "source": [
    "# split dataset into training, testing, and validation\n",
    "\n",
    "num_batches_paper_sample = len(data_shifted_paper)\n",
    "\n",
    "train_set_size_paper = int(0.8 * num_batches_paper_sample)    \n",
    "val_set_size_paper = int(0.1 * num_batches_paper_sample)     \n",
    "test_set_size_paper = num_batches_paper_sample - train_set_size_paper - val_set_size_paper\n",
    "\n",
    "train_data_paper, val_data_paper, test_data_paper = torch.utils.data.random_split(\n",
    "    dataset_paper, [train_set_size_paper, val_set_size_paper, test_set_size_paper])"
   ]
  },
  {
   "cell_type": "code",
   "execution_count": 10,
   "id": "951b0515-8b38-4e2c-9237-cebd23be76fd",
   "metadata": {},
   "outputs": [],
   "source": [
    "# load and shuffle the data\n",
    "\n",
    "train_data_loader_paper = DataLoader(train_data_paper, batch_size=25, shuffle=True)\n",
    "val_data_loader_paper = DataLoader(val_data_paper, batch_size=25, shuffle=True)\n",
    "test_data_loader_paper = DataLoader(test_data_paper, batch_size=1, shuffle=False)"
   ]
  },
  {
   "cell_type": "markdown",
   "id": "156c52b2-59b9-4100-8d98-d4fe1e59bd0f",
   "metadata": {},
   "source": [
    "# Set Similarity Embedding"
   ]
  },
  {
   "cell_type": "code",
   "execution_count": 12,
   "id": "6786ae17-3a55-46b7-8604-f9bbe2896ff4",
   "metadata": {},
   "outputs": [
    {
     "data": {
      "text/plain": [
       "SimilarityEmbedding(\n",
       "  (layer_norm): LayerNorm((3, 121), eps=1e-05, elementwise_affine=True)\n",
       "  (layers_f): ResNet(\n",
       "    (conv1): Conv1d(3, 64, kernel_size=(7,), stride=(2,), padding=(3,), bias=False)\n",
       "    (bn1): GroupNorm()\n",
       "    (relu): ReLU(inplace=True)\n",
       "    (maxpool): MaxPool1d(kernel_size=3, stride=2, padding=1, dilation=1, ceil_mode=False)\n",
       "    (residual_layers): ModuleList(\n",
       "      (0): Sequential(\n",
       "        (0): BasicBlock(\n",
       "          (conv1): Conv1d(64, 64, kernel_size=(5,), stride=(1,), padding=(2,), bias=False)\n",
       "          (bn1): GroupNorm()\n",
       "          (relu): ReLU(inplace=True)\n",
       "          (conv2): Conv1d(64, 64, kernel_size=(5,), stride=(1,), padding=(2,), bias=False)\n",
       "          (bn2): GroupNorm()\n",
       "        )\n",
       "        (1): BasicBlock(\n",
       "          (conv1): Conv1d(64, 64, kernel_size=(5,), stride=(1,), padding=(2,), bias=False)\n",
       "          (bn1): GroupNorm()\n",
       "          (relu): ReLU(inplace=True)\n",
       "          (conv2): Conv1d(64, 64, kernel_size=(5,), stride=(1,), padding=(2,), bias=False)\n",
       "          (bn2): GroupNorm()\n",
       "        )\n",
       "      )\n",
       "      (1): Sequential(\n",
       "        (0): BasicBlock(\n",
       "          (conv1): Conv1d(64, 128, kernel_size=(5,), stride=(2,), padding=(2,), bias=False)\n",
       "          (bn1): GroupNorm()\n",
       "          (relu): ReLU(inplace=True)\n",
       "          (conv2): Conv1d(128, 128, kernel_size=(5,), stride=(1,), padding=(2,), bias=False)\n",
       "          (bn2): GroupNorm()\n",
       "          (downsample): Sequential(\n",
       "            (0): Conv1d(64, 128, kernel_size=(1,), stride=(2,), bias=False)\n",
       "            (1): GroupNorm()\n",
       "          )\n",
       "        )\n",
       "        (1): BasicBlock(\n",
       "          (conv1): Conv1d(128, 128, kernel_size=(5,), stride=(1,), padding=(2,), bias=False)\n",
       "          (bn1): GroupNorm()\n",
       "          (relu): ReLU(inplace=True)\n",
       "          (conv2): Conv1d(128, 128, kernel_size=(5,), stride=(1,), padding=(2,), bias=False)\n",
       "          (bn2): GroupNorm()\n",
       "        )\n",
       "      )\n",
       "    )\n",
       "    (avgpool): AdaptiveAvgPool1d(output_size=1)\n",
       "    (fc): Linear(in_features=128, out_features=100, bias=True)\n",
       "  )\n",
       "  (contraction_layer): Linear(in_features=100, out_features=7, bias=True)\n",
       "  (expander_layer): Linear(in_features=7, out_features=20, bias=True)\n",
       "  (layers_h): ModuleList(\n",
       "    (0): Linear(in_features=20, out_features=20, bias=True)\n",
       "  )\n",
       "  (final_layer): Linear(in_features=20, out_features=2, bias=True)\n",
       ")"
      ]
     },
     "execution_count": 12,
     "metadata": {},
     "output_type": "execute_result"
    }
   ],
   "source": [
    "# model\n",
    "num_dim = 7\n",
    "similarity_embedding = SimilarityEmbedding(num_dim=7, num_hidden_layers_f=1, num_hidden_layers_h=1, num_blocks=4, kernel_size=5, num_dim_final=2).to(device)\n",
    "\n",
    "# load in model weights\n",
    "SAVEPATH = '/nobackup/users/mmdesai/updated_weights/similarity-embedding-weights.pth'\n",
    "similarity_embedding.load_state_dict(torch.load(SAVEPATH, map_location=device))\n",
    "similarity_embedding.eval()"
   ]
  },
  {
   "cell_type": "markdown",
   "id": "b703e895-fc4e-40e9-8253-5928d89c071a",
   "metadata": {},
   "source": [
    "# Check the Embedding"
   ]
  },
  {
   "cell_type": "code",
   "execution_count": 13,
   "id": "10021160-0c47-4119-93f9-64d9a62bf8af",
   "metadata": {},
   "outputs": [
    {
     "ename": "NameError",
     "evalue": "name 'device' is not defined",
     "output_type": "error",
     "traceback": [
      "\u001b[0;31m---------------------------------------------------------------------------\u001b[0m",
      "\u001b[0;31mNameError\u001b[0m                                 Traceback (most recent call last)",
      "\u001b[0;32m/tmp/ipykernel_3975690/3084813059.py\u001b[0m in \u001b[0;36m<cell line: 6>\u001b[0;34m()\u001b[0m\n\u001b[1;32m      4\u001b[0m \u001b[0msimilarity_outputs_1\u001b[0m \u001b[0;34m=\u001b[0m \u001b[0;34m[\u001b[0m\u001b[0;34m]\u001b[0m\u001b[0;34m\u001b[0m\u001b[0;34m\u001b[0m\u001b[0m\n\u001b[1;32m      5\u001b[0m \u001b[0;34m\u001b[0m\u001b[0m\n\u001b[0;32m----> 6\u001b[0;31m \u001b[0;32mfor\u001b[0m \u001b[0midx\u001b[0m\u001b[0;34m,\u001b[0m \u001b[0;34m(\u001b[0m\u001b[0m_\u001b[0m\u001b[0;34m,\u001b[0m \u001b[0mshift_test\u001b[0m\u001b[0;34m,\u001b[0m \u001b[0mdata_test\u001b[0m\u001b[0;34m,\u001b[0m \u001b[0mdata_test_orig\u001b[0m\u001b[0;34m)\u001b[0m \u001b[0;32min\u001b[0m \u001b[0menumerate\u001b[0m\u001b[0;34m(\u001b[0m\u001b[0mdata_loader\u001b[0m\u001b[0;34m)\u001b[0m\u001b[0;34m:\u001b[0m\u001b[0;34m\u001b[0m\u001b[0;34m\u001b[0m\u001b[0m\n\u001b[0m\u001b[1;32m      7\u001b[0m     \u001b[0m_\u001b[0m \u001b[0;34m=\u001b[0m \u001b[0m_\u001b[0m\u001b[0;34m.\u001b[0m\u001b[0mreshape\u001b[0m\u001b[0;34m(\u001b[0m\u001b[0;34m(\u001b[0m\u001b[0;34m-\u001b[0m\u001b[0;36m1\u001b[0m\u001b[0;34m,\u001b[0m\u001b[0;34m)\u001b[0m\u001b[0;34m+\u001b[0m\u001b[0m_\u001b[0m\u001b[0;34m.\u001b[0m\u001b[0mshape\u001b[0m\u001b[0;34m[\u001b[0m\u001b[0;36m2\u001b[0m\u001b[0;34m:\u001b[0m\u001b[0;34m]\u001b[0m\u001b[0;34m)\u001b[0m\u001b[0;34m\u001b[0m\u001b[0;34m\u001b[0m\u001b[0m\n\u001b[1;32m      8\u001b[0m     \u001b[0mdata_test\u001b[0m \u001b[0;34m=\u001b[0m \u001b[0mdata_test\u001b[0m\u001b[0;34m.\u001b[0m\u001b[0mreshape\u001b[0m\u001b[0;34m(\u001b[0m\u001b[0;34m(\u001b[0m\u001b[0;34m-\u001b[0m\u001b[0;36m1\u001b[0m\u001b[0;34m,\u001b[0m\u001b[0;34m)\u001b[0m\u001b[0;34m+\u001b[0m\u001b[0mdata_test\u001b[0m\u001b[0;34m.\u001b[0m\u001b[0mshape\u001b[0m\u001b[0;34m[\u001b[0m\u001b[0;36m2\u001b[0m\u001b[0;34m:\u001b[0m\u001b[0;34m]\u001b[0m\u001b[0;34m)\u001b[0m\u001b[0;34m\u001b[0m\u001b[0;34m\u001b[0m\u001b[0m\n",
      "\u001b[0;32m~/.conda/envs/my_torch/lib/python3.10/site-packages/torch/utils/data/dataloader.py\u001b[0m in \u001b[0;36m__next__\u001b[0;34m(self)\u001b[0m\n\u001b[1;32m    631\u001b[0m                 \u001b[0;31m# TODO(https://github.com/pytorch/pytorch/issues/76750)\u001b[0m\u001b[0;34m\u001b[0m\u001b[0;34m\u001b[0m\u001b[0m\n\u001b[1;32m    632\u001b[0m                 \u001b[0mself\u001b[0m\u001b[0;34m.\u001b[0m\u001b[0m_reset\u001b[0m\u001b[0;34m(\u001b[0m\u001b[0;34m)\u001b[0m  \u001b[0;31m# type: ignore[call-arg]\u001b[0m\u001b[0;34m\u001b[0m\u001b[0;34m\u001b[0m\u001b[0m\n\u001b[0;32m--> 633\u001b[0;31m             \u001b[0mdata\u001b[0m \u001b[0;34m=\u001b[0m \u001b[0mself\u001b[0m\u001b[0;34m.\u001b[0m\u001b[0m_next_data\u001b[0m\u001b[0;34m(\u001b[0m\u001b[0;34m)\u001b[0m\u001b[0;34m\u001b[0m\u001b[0;34m\u001b[0m\u001b[0m\n\u001b[0m\u001b[1;32m    634\u001b[0m             \u001b[0mself\u001b[0m\u001b[0;34m.\u001b[0m\u001b[0m_num_yielded\u001b[0m \u001b[0;34m+=\u001b[0m \u001b[0;36m1\u001b[0m\u001b[0;34m\u001b[0m\u001b[0;34m\u001b[0m\u001b[0m\n\u001b[1;32m    635\u001b[0m             \u001b[0;32mif\u001b[0m \u001b[0mself\u001b[0m\u001b[0;34m.\u001b[0m\u001b[0m_dataset_kind\u001b[0m \u001b[0;34m==\u001b[0m \u001b[0m_DatasetKind\u001b[0m\u001b[0;34m.\u001b[0m\u001b[0mIterable\u001b[0m \u001b[0;32mand\u001b[0m\u001b[0;31m \u001b[0m\u001b[0;31m\\\u001b[0m\u001b[0;34m\u001b[0m\u001b[0;34m\u001b[0m\u001b[0m\n",
      "\u001b[0;32m~/.conda/envs/my_torch/lib/python3.10/site-packages/torch/utils/data/dataloader.py\u001b[0m in \u001b[0;36m_next_data\u001b[0;34m(self)\u001b[0m\n\u001b[1;32m    675\u001b[0m     \u001b[0;32mdef\u001b[0m \u001b[0m_next_data\u001b[0m\u001b[0;34m(\u001b[0m\u001b[0mself\u001b[0m\u001b[0;34m)\u001b[0m\u001b[0;34m:\u001b[0m\u001b[0;34m\u001b[0m\u001b[0;34m\u001b[0m\u001b[0m\n\u001b[1;32m    676\u001b[0m         \u001b[0mindex\u001b[0m \u001b[0;34m=\u001b[0m \u001b[0mself\u001b[0m\u001b[0;34m.\u001b[0m\u001b[0m_next_index\u001b[0m\u001b[0;34m(\u001b[0m\u001b[0;34m)\u001b[0m  \u001b[0;31m# may raise StopIteration\u001b[0m\u001b[0;34m\u001b[0m\u001b[0;34m\u001b[0m\u001b[0m\n\u001b[0;32m--> 677\u001b[0;31m         \u001b[0mdata\u001b[0m \u001b[0;34m=\u001b[0m \u001b[0mself\u001b[0m\u001b[0;34m.\u001b[0m\u001b[0m_dataset_fetcher\u001b[0m\u001b[0;34m.\u001b[0m\u001b[0mfetch\u001b[0m\u001b[0;34m(\u001b[0m\u001b[0mindex\u001b[0m\u001b[0;34m)\u001b[0m  \u001b[0;31m# may raise StopIteration\u001b[0m\u001b[0;34m\u001b[0m\u001b[0;34m\u001b[0m\u001b[0m\n\u001b[0m\u001b[1;32m    678\u001b[0m         \u001b[0;32mif\u001b[0m \u001b[0mself\u001b[0m\u001b[0;34m.\u001b[0m\u001b[0m_pin_memory\u001b[0m\u001b[0;34m:\u001b[0m\u001b[0;34m\u001b[0m\u001b[0;34m\u001b[0m\u001b[0m\n\u001b[1;32m    679\u001b[0m             \u001b[0mdata\u001b[0m \u001b[0;34m=\u001b[0m \u001b[0m_utils\u001b[0m\u001b[0;34m.\u001b[0m\u001b[0mpin_memory\u001b[0m\u001b[0;34m.\u001b[0m\u001b[0mpin_memory\u001b[0m\u001b[0;34m(\u001b[0m\u001b[0mdata\u001b[0m\u001b[0;34m,\u001b[0m \u001b[0mself\u001b[0m\u001b[0;34m.\u001b[0m\u001b[0m_pin_memory_device\u001b[0m\u001b[0;34m)\u001b[0m\u001b[0;34m\u001b[0m\u001b[0;34m\u001b[0m\u001b[0m\n",
      "\u001b[0;32m~/.conda/envs/my_torch/lib/python3.10/site-packages/torch/utils/data/_utils/fetch.py\u001b[0m in \u001b[0;36mfetch\u001b[0;34m(self, possibly_batched_index)\u001b[0m\n\u001b[1;32m     49\u001b[0m                 \u001b[0mdata\u001b[0m \u001b[0;34m=\u001b[0m \u001b[0mself\u001b[0m\u001b[0;34m.\u001b[0m\u001b[0mdataset\u001b[0m\u001b[0;34m.\u001b[0m\u001b[0m__getitems__\u001b[0m\u001b[0;34m(\u001b[0m\u001b[0mpossibly_batched_index\u001b[0m\u001b[0;34m)\u001b[0m\u001b[0;34m\u001b[0m\u001b[0;34m\u001b[0m\u001b[0m\n\u001b[1;32m     50\u001b[0m             \u001b[0;32melse\u001b[0m\u001b[0;34m:\u001b[0m\u001b[0;34m\u001b[0m\u001b[0;34m\u001b[0m\u001b[0m\n\u001b[0;32m---> 51\u001b[0;31m                 \u001b[0mdata\u001b[0m \u001b[0;34m=\u001b[0m \u001b[0;34m[\u001b[0m\u001b[0mself\u001b[0m\u001b[0;34m.\u001b[0m\u001b[0mdataset\u001b[0m\u001b[0;34m[\u001b[0m\u001b[0midx\u001b[0m\u001b[0;34m]\u001b[0m \u001b[0;32mfor\u001b[0m \u001b[0midx\u001b[0m \u001b[0;32min\u001b[0m \u001b[0mpossibly_batched_index\u001b[0m\u001b[0;34m]\u001b[0m\u001b[0;34m\u001b[0m\u001b[0;34m\u001b[0m\u001b[0m\n\u001b[0m\u001b[1;32m     52\u001b[0m         \u001b[0;32melse\u001b[0m\u001b[0;34m:\u001b[0m\u001b[0;34m\u001b[0m\u001b[0;34m\u001b[0m\u001b[0m\n\u001b[1;32m     53\u001b[0m             \u001b[0mdata\u001b[0m \u001b[0;34m=\u001b[0m \u001b[0mself\u001b[0m\u001b[0;34m.\u001b[0m\u001b[0mdataset\u001b[0m\u001b[0;34m[\u001b[0m\u001b[0mpossibly_batched_index\u001b[0m\u001b[0;34m]\u001b[0m\u001b[0;34m\u001b[0m\u001b[0;34m\u001b[0m\u001b[0m\n",
      "\u001b[0;32m~/.conda/envs/my_torch/lib/python3.10/site-packages/torch/utils/data/_utils/fetch.py\u001b[0m in \u001b[0;36m<listcomp>\u001b[0;34m(.0)\u001b[0m\n\u001b[1;32m     49\u001b[0m                 \u001b[0mdata\u001b[0m \u001b[0;34m=\u001b[0m \u001b[0mself\u001b[0m\u001b[0;34m.\u001b[0m\u001b[0mdataset\u001b[0m\u001b[0;34m.\u001b[0m\u001b[0m__getitems__\u001b[0m\u001b[0;34m(\u001b[0m\u001b[0mpossibly_batched_index\u001b[0m\u001b[0;34m)\u001b[0m\u001b[0;34m\u001b[0m\u001b[0;34m\u001b[0m\u001b[0m\n\u001b[1;32m     50\u001b[0m             \u001b[0;32melse\u001b[0m\u001b[0;34m:\u001b[0m\u001b[0;34m\u001b[0m\u001b[0;34m\u001b[0m\u001b[0m\n\u001b[0;32m---> 51\u001b[0;31m                 \u001b[0mdata\u001b[0m \u001b[0;34m=\u001b[0m \u001b[0;34m[\u001b[0m\u001b[0mself\u001b[0m\u001b[0;34m.\u001b[0m\u001b[0mdataset\u001b[0m\u001b[0;34m[\u001b[0m\u001b[0midx\u001b[0m\u001b[0;34m]\u001b[0m \u001b[0;32mfor\u001b[0m \u001b[0midx\u001b[0m \u001b[0;32min\u001b[0m \u001b[0mpossibly_batched_index\u001b[0m\u001b[0;34m]\u001b[0m\u001b[0;34m\u001b[0m\u001b[0;34m\u001b[0m\u001b[0m\n\u001b[0m\u001b[1;32m     52\u001b[0m         \u001b[0;32melse\u001b[0m\u001b[0;34m:\u001b[0m\u001b[0;34m\u001b[0m\u001b[0;34m\u001b[0m\u001b[0m\n\u001b[1;32m     53\u001b[0m             \u001b[0mdata\u001b[0m \u001b[0;34m=\u001b[0m \u001b[0mself\u001b[0m\u001b[0;34m.\u001b[0m\u001b[0mdataset\u001b[0m\u001b[0;34m[\u001b[0m\u001b[0mpossibly_batched_index\u001b[0m\u001b[0;34m]\u001b[0m\u001b[0;34m\u001b[0m\u001b[0;34m\u001b[0m\u001b[0m\n",
      "\u001b[0;32m~/.conda/envs/my_torch/lib/python3.10/site-packages/torch/utils/data/dataset.py\u001b[0m in \u001b[0;36m__getitem__\u001b[0;34m(self, idx)\u001b[0m\n\u001b[1;32m    296\u001b[0m         \u001b[0;32mif\u001b[0m \u001b[0misinstance\u001b[0m\u001b[0;34m(\u001b[0m\u001b[0midx\u001b[0m\u001b[0;34m,\u001b[0m \u001b[0mlist\u001b[0m\u001b[0;34m)\u001b[0m\u001b[0;34m:\u001b[0m\u001b[0;34m\u001b[0m\u001b[0;34m\u001b[0m\u001b[0m\n\u001b[1;32m    297\u001b[0m             \u001b[0;32mreturn\u001b[0m \u001b[0mself\u001b[0m\u001b[0;34m.\u001b[0m\u001b[0mdataset\u001b[0m\u001b[0;34m[\u001b[0m\u001b[0;34m[\u001b[0m\u001b[0mself\u001b[0m\u001b[0;34m.\u001b[0m\u001b[0mindices\u001b[0m\u001b[0;34m[\u001b[0m\u001b[0mi\u001b[0m\u001b[0;34m]\u001b[0m \u001b[0;32mfor\u001b[0m \u001b[0mi\u001b[0m \u001b[0;32min\u001b[0m \u001b[0midx\u001b[0m\u001b[0;34m]\u001b[0m\u001b[0;34m]\u001b[0m\u001b[0;34m\u001b[0m\u001b[0;34m\u001b[0m\u001b[0m\n\u001b[0;32m--> 298\u001b[0;31m         \u001b[0;32mreturn\u001b[0m \u001b[0mself\u001b[0m\u001b[0;34m.\u001b[0m\u001b[0mdataset\u001b[0m\u001b[0;34m[\u001b[0m\u001b[0mself\u001b[0m\u001b[0;34m.\u001b[0m\u001b[0mindices\u001b[0m\u001b[0;34m[\u001b[0m\u001b[0midx\u001b[0m\u001b[0;34m]\u001b[0m\u001b[0;34m]\u001b[0m\u001b[0;34m\u001b[0m\u001b[0;34m\u001b[0m\u001b[0m\n\u001b[0m\u001b[1;32m    299\u001b[0m \u001b[0;34m\u001b[0m\u001b[0m\n\u001b[1;32m    300\u001b[0m     \u001b[0;32mdef\u001b[0m \u001b[0m__len__\u001b[0m\u001b[0;34m(\u001b[0m\u001b[0mself\u001b[0m\u001b[0;34m)\u001b[0m\u001b[0;34m:\u001b[0m\u001b[0;34m\u001b[0m\u001b[0;34m\u001b[0m\u001b[0m\n",
      "\u001b[0;32m~/data_processing.py\u001b[0m in \u001b[0;36m__getitem__\u001b[0;34m(self, idx)\u001b[0m\n\u001b[1;32m    395\u001b[0m \u001b[0;34m\u001b[0m\u001b[0m\n\u001b[1;32m    396\u001b[0m         return (\n\u001b[0;32m--> 397\u001b[0;31m             \u001b[0mself\u001b[0m\u001b[0;34m.\u001b[0m\u001b[0mparam_shifted_paper\u001b[0m\u001b[0;34m[\u001b[0m\u001b[0midx\u001b[0m\u001b[0;34m]\u001b[0m\u001b[0;34m.\u001b[0m\u001b[0mto\u001b[0m\u001b[0;34m(\u001b[0m\u001b[0mdevice\u001b[0m\u001b[0;34m)\u001b[0m\u001b[0;34m,\u001b[0m\u001b[0;34m\u001b[0m\u001b[0;34m\u001b[0m\u001b[0m\n\u001b[0m\u001b[1;32m    398\u001b[0m             \u001b[0mself\u001b[0m\u001b[0;34m.\u001b[0m\u001b[0mparam_unshifted_paper\u001b[0m\u001b[0;34m[\u001b[0m\u001b[0midx\u001b[0m\u001b[0;34m]\u001b[0m\u001b[0;34m.\u001b[0m\u001b[0mto\u001b[0m\u001b[0;34m(\u001b[0m\u001b[0mdevice\u001b[0m\u001b[0;34m)\u001b[0m\u001b[0;34m,\u001b[0m\u001b[0;34m\u001b[0m\u001b[0;34m\u001b[0m\u001b[0m\n\u001b[1;32m    399\u001b[0m             \u001b[0mself\u001b[0m\u001b[0;34m.\u001b[0m\u001b[0mdata_shifted_paper\u001b[0m\u001b[0;34m[\u001b[0m\u001b[0midx\u001b[0m\u001b[0;34m]\u001b[0m\u001b[0;34m.\u001b[0m\u001b[0mto\u001b[0m\u001b[0;34m(\u001b[0m\u001b[0mdevice\u001b[0m\u001b[0;34m)\u001b[0m\u001b[0;34m,\u001b[0m\u001b[0;34m\u001b[0m\u001b[0;34m\u001b[0m\u001b[0m\n",
      "\u001b[0;31mNameError\u001b[0m: name 'device' is not defined"
     ]
    }
   ],
   "source": [
    "similarity_embedding.train(False)\n",
    "data_loader = test_data_loader_paper\n",
    "\n",
    "similarity_outputs_1 = []\n",
    "\n",
    "for idx, (_, shift_test, data_test, data_test_orig) in enumerate(data_loader):\n",
    "    _ = _.reshape((-1,)+_.shape[2:])\n",
    "    data_test = data_test.reshape((-1,)+data_test.shape[2:])\n",
    "    data_test_orig = data_test_orig.reshape((-1,)+data_test_orig.shape[2:])\n",
    "    shift_test = shift_test.reshape((-1,)+shift_test.shape[2:])\n",
    "    if not ((shift_test[0][0][0] < -1) and (shift_test[0][0][0] > -1.25)):\n",
    "        continue\n",
    "    if not ((shift_test[0][0][1] < -0.5) and (shift_test[0][0][1] > -0.75)):\n",
    "        continue\n",
    "    if not ((shift_test[0][0][2] < -3) and (shift_test[0][0][2] > -4.5)):\n",
    "        continue\n",
    "    with torch.no_grad():\n",
    "        _, similarity_output = similarity_embedding(data_test)\n",
    "    similarity_outputs_1.append(similarity_output)\n",
    "\n",
    "similarity_outputs_2 = []\n",
    "\n",
    "for idx, (_, shift_test, data_test, data_test_orig) in enumerate(data_loader):\n",
    "    _ = _.reshape((-1,)+_.shape[2:])\n",
    "    data_test = data_test.reshape((-1,)+data_test.shape[2:])\n",
    "    data_test_orig = data_test_orig.reshape((-1,)+data_test_orig.shape[2:])\n",
    "    shift_test = shift_test.reshape((-1,)+shift_test.shape[2:])\n",
    "    if not ((shift_test[0][0][0] < -1.25) and (shift_test[0][0][0] > -1.5)):\n",
    "        continue\n",
    "    if not ((shift_test[0][0][1] < -0.75) and (shift_test[0][0][1] > -1)):\n",
    "        continue\n",
    "    if not ((shift_test[0][0][2] < -4.5) and (shift_test[0][0][2] > -6)):\n",
    "        continue\n",
    "    with torch.no_grad():\n",
    "        _, similarity_output = similarity_embedding(data_test)\n",
    "    similarity_outputs_2.append(similarity_output)\n",
    "\n",
    "similarity_outputs_3 = []\n",
    "\n",
    "for idx, (_, shift_test, data_test, data_test_orig) in enumerate(data_loader):\n",
    "    _ = _.reshape((-1,)+_.shape[2:])\n",
    "    data_test = data_test.reshape((-1,)+data_test.shape[2:])\n",
    "    data_test_orig = data_test_orig.reshape((-1,)+data_test_orig.shape[2:])\n",
    "    shift_test = shift_test.reshape((-1,)+shift_test.shape[2:])\n",
    "    if not ((shift_test[0][0][0] < -1.5) and (shift_test[0][0][0] > -1.75)):\n",
    "        continue\n",
    "    if not ((shift_test[0][0][1] < -1) and (shift_test[0][0][1] > -1.25)):\n",
    "        continue\n",
    "    if not ((shift_test[0][0][2] < -6) and (shift_test[0][0][2] > -7.5)):\n",
    "        continue\n",
    "    with torch.no_grad():\n",
    "        _, similarity_output = similarity_embedding(data_test)\n",
    "    similarity_outputs_3.append(similarity_output)\n",
    "\n",
    "similarity_outputs_4 = []\n",
    "\n",
    "for idx, (_, shift_test, data_test, data_test_orig) in enumerate(data_loader):\n",
    "    _ = _.reshape((-1,)+_.shape[2:])\n",
    "    data_test = data_test.reshape((-1,)+data_test.shape[2:])\n",
    "    data_test_orig = data_test_orig.reshape((-1,)+data_test_orig.shape[2:])\n",
    "    shift_test = shift_test.reshape((-1,)+shift_test.shape[2:])\n",
    "    if not ((shift_test[0][0][0] < -1.75) and (shift_test[0][0][0] > -2.5)):\n",
    "        continue\n",
    "    if not ((shift_test[0][0][1] < -1.25) and (shift_test[0][0][1] > -1.55)):\n",
    "        continue\n",
    "    if not ((shift_test[0][0][2] < -7.5) and (shift_test[0][0][2] > -9)):\n",
    "        continue\n",
    "    with torch.no_grad():\n",
    "        _, similarity_output = similarity_embedding(data_test)\n",
    "    similarity_outputs_4.append(similarity_output)"
   ]
  },
  {
   "cell_type": "code",
   "execution_count": null,
   "id": "6115391d-02b1-4497-825d-232d8372260d",
   "metadata": {},
   "outputs": [],
   "source": [
    "similarity_outputs_1 = torch.stack(similarity_outputs_1)\n",
    "similarity_outputs_2 = torch.stack(similarity_outputs_2)\n",
    "similarity_outputs_3 = torch.stack(similarity_outputs_3)\n",
    "similarity_outputs_4 = torch.stack(similarity_outputs_4)"
   ]
  },
  {
   "cell_type": "code",
   "execution_count": null,
   "id": "19a7c87e-1060-4400-b6a5-b3a67efde74c",
   "metadata": {},
   "outputs": [],
   "source": [
    "figure = corner.corner(\n",
    "    similarity_outputs_1.cpu().numpy().reshape((similarity_outputs_1.shape[0]*similarity_outputs_1.shape[1], num_dim)),\n",
    "    quantiles=[0.16, 0.5, 0.84], color=\"C1\"\n",
    ")\n",
    "\n",
    "figure = corner.corner(\n",
    "    similarity_outputs_2.cpu().numpy().reshape((similarity_outputs_2.shape[0]*similarity_outputs_2.shape[1], num_dim)),\n",
    "    quantiles=[0.16, 0.5, 0.84], fig=figure, color=\"C2\"\n",
    ")\n",
    "\n",
    "figure = corner.corner(\n",
    "    similarity_outputs_3.cpu().numpy().reshape((similarity_outputs_3.shape[0]*similarity_outputs_3.shape[1], num_dim)),\n",
    "    quantiles=[0.16, 0.5, 0.84], fig=figure, color=\"C3\"\n",
    ")\n",
    "\n",
    "figure = corner.corner(\n",
    "    similarity_outputs_4.cpu().numpy().reshape((similarity_outputs_4.shape[0]*similarity_outputs_4.shape[1], num_dim)),\n",
    "    quantiles=[0.16, 0.5, 0.84], fig=figure, color=\"C4\"\n",
    ")"
   ]
  },
  {
   "cell_type": "code",
   "execution_count": null,
   "id": "7a0083fa-1b7a-428d-ab3a-4bff93cf2911",
   "metadata": {},
   "outputs": [],
   "source": []
  }
 ],
 "metadata": {
  "kernelspec": {
   "display_name": "Python 3 (ipykernel)",
   "language": "python",
   "name": "python3"
  },
  "language_info": {
   "codemirror_mode": {
    "name": "ipython",
    "version": 3
   },
   "file_extension": ".py",
   "mimetype": "text/x-python",
   "name": "python",
   "nbconvert_exporter": "python",
   "pygments_lexer": "ipython3",
   "version": "3.10.13"
  }
 },
 "nbformat": 4,
 "nbformat_minor": 5
}
